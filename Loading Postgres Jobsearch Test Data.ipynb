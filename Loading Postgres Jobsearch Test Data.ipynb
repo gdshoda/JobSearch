{
 "cells": [
  {
   "cell_type": "code",
   "execution_count": 57,
   "id": "c24615c0-7582-424d-9622-9495a1434408",
   "metadata": {},
   "outputs": [],
   "source": [
    "from faker import Faker\n",
    "from faker.providers import DynamicProvider"
   ]
  },
  {
   "cell_type": "code",
   "execution_count": 9,
   "id": "b9aa995f-6e46-4e37-ae6b-84c59cf39e6a",
   "metadata": {},
   "outputs": [],
   "source": [
    "import requests\n",
    "import psycopg2\n",
    "import pandas as pd\n",
    "import numpy as np"
   ]
  },
  {
   "cell_type": "code",
   "execution_count": 64,
   "id": "64ee825c-f555-4dca-9aaf-dd565ada96cc",
   "metadata": {},
   "outputs": [],
   "source": [
    "import warnings\n",
    "warnings.filterwarnings(\"ignore\")"
   ]
  },
  {
   "cell_type": "code",
   "execution_count": 12,
   "id": "8035b72d-eaa3-44d2-b653-f85ec947a14f",
   "metadata": {},
   "outputs": [],
   "source": [
    "cnxn = psycopg2.connect(host = \"jobsearch-test.cz8su8kcabuv.us-east-2.rds.amazonaws.com\",\n",
    "                database = \"postgres\",\n",
    "                user = \"gdshoda\",\n",
    "                password = \"p)aK1g3yW]1(6UbIeOGQN2j[u*B]\",\n",
    "                port = 5432\n",
    "                       )     "
   ]
  },
  {
   "cell_type": "code",
   "execution_count": 42,
   "id": "11a81cb1-2142-42f8-97d9-35b24e7b543b",
   "metadata": {},
   "outputs": [],
   "source": [
    "fake_france = Faker('fr_FR')"
   ]
  },
  {
   "cell_type": "code",
   "execution_count": 43,
   "id": "c17867a0-9620-488b-972a-1651c3d163f6",
   "metadata": {},
   "outputs": [],
   "source": [
    "fake_US = Faker('en_US')"
   ]
  },
  {
   "cell_type": "code",
   "execution_count": 13,
   "id": "e23b0810-63a4-47fd-a302-b88502be592c",
   "metadata": {},
   "outputs": [],
   "source": [
    "cursor = cnxn.cursor()"
   ]
  },
  {
   "cell_type": "code",
   "execution_count": 24,
   "id": "bcc71344-f464-467e-9eb0-87b4b5956157",
   "metadata": {},
   "outputs": [],
   "source": [
    "cursor.execute(\"\"\"SELECT n.nspname AS schema, t.typname AS type, e.enumlabel AS value\n",
    "                FROM pg_type t \n",
    "                JOIN pg_enum e ON t.oid = e.enumtypid\n",
    "                JOIN pg_namespace n ON n.oid = t.typnamespace\n",
    "                ORDER BY schema, type, e.enumlabel;\"\"\")"
   ]
  },
  {
   "cell_type": "code",
   "execution_count": 25,
   "id": "960ba711-510f-4feb-8441-3614fabf6d78",
   "metadata": {},
   "outputs": [],
   "source": [
    "enums = cursor.fetchall()"
   ]
  },
  {
   "cell_type": "code",
   "execution_count": 46,
   "id": "282b58dc-3c67-4a35-963f-cde48814e7fe",
   "metadata": {},
   "outputs": [],
   "source": [
    "enums_df = pd.DataFrame(enums, columns = ['Acces', 'type', 'value'])"
   ]
  },
  {
   "cell_type": "code",
   "execution_count": 47,
   "id": "97a8b8f1-b162-4cd6-988e-4863d0e1d14b",
   "metadata": {},
   "outputs": [
    {
     "name": "stdout",
     "output_type": "stream",
     "text": [
      "<class 'pandas.core.frame.DataFrame'>\n",
      "RangeIndex: 15 entries, 0 to 14\n",
      "Data columns (total 3 columns):\n",
      " #   Column  Non-Null Count  Dtype \n",
      "---  ------  --------------  ----- \n",
      " 0   Acces   15 non-null     object\n",
      " 1   type    15 non-null     object\n",
      " 2   value   15 non-null     object\n",
      "dtypes: object(3)\n",
      "memory usage: 488.0+ bytes\n"
     ]
    }
   ],
   "source": [
    "enums_df.info()"
   ]
  },
  {
   "cell_type": "code",
   "execution_count": 50,
   "id": "8d7ebaa5-9526-4c65-bf89-a4b78a1407ab",
   "metadata": {},
   "outputs": [
    {
     "data": {
      "text/plain": [
       "array(['activity', 'correct_sizes', 'cover_letter'], dtype=object)"
      ]
     },
     "execution_count": 50,
     "metadata": {},
     "output_type": "execute_result"
    }
   ],
   "source": [
    "enums_df['type'].unique()"
   ]
  },
  {
   "cell_type": "code",
   "execution_count": 51,
   "id": "0f76d8dc-e168-4939-b290-691bc70f56a0",
   "metadata": {},
   "outputs": [],
   "source": [
    "activities = enums_df.loc[enums_df['type'] == 'activity']"
   ]
  },
  {
   "cell_type": "code",
   "execution_count": 60,
   "id": "15cd953f-78c6-449b-a85f-572f799eb96f",
   "metadata": {
    "scrolled": true
   },
   "outputs": [],
   "source": [
    "activities_provider = DynamicProvider(\n",
    "    provider_name = \"activity\",\n",
    "    elements = activities['type'].to_list()\n",
    ")"
   ]
  },
  {
   "cell_type": "code",
   "execution_count": 32,
   "id": "a003de44-21f1-4849-91be-be1ca73dfb92",
   "metadata": {},
   "outputs": [],
   "source": [
    "cursor.execute('SELECT * FROM region;')"
   ]
  },
  {
   "cell_type": "code",
   "execution_count": 35,
   "id": "bac7662e-064b-43bb-8836-13faaf829f9b",
   "metadata": {},
   "outputs": [],
   "source": [
    "region_data = cursor.fetchall()"
   ]
  },
  {
   "cell_type": "code",
   "execution_count": 39,
   "id": "d86a0597-b539-471b-8cd7-1ce4d0dc2c56",
   "metadata": {},
   "outputs": [],
   "source": [
    "regions = pd.DataFrame(region_data, columns = ['id', 'iso', 'name','abbreviation'])"
   ]
  },
  {
   "cell_type": "code",
   "execution_count": 41,
   "id": "a01c6662-2347-46ee-8161-c73a18a165db",
   "metadata": {},
   "outputs": [
    {
     "data": {
      "text/html": [
       "<div>\n",
       "<style scoped>\n",
       "    .dataframe tbody tr th:only-of-type {\n",
       "        vertical-align: middle;\n",
       "    }\n",
       "\n",
       "    .dataframe tbody tr th {\n",
       "        vertical-align: top;\n",
       "    }\n",
       "\n",
       "    .dataframe thead th {\n",
       "        text-align: right;\n",
       "    }\n",
       "</style>\n",
       "<table border=\"1\" class=\"dataframe\">\n",
       "  <thead>\n",
       "    <tr style=\"text-align: right;\">\n",
       "      <th></th>\n",
       "      <th>id</th>\n",
       "      <th>iso</th>\n",
       "      <th>name</th>\n",
       "      <th>abbreviation</th>\n",
       "    </tr>\n",
       "  </thead>\n",
       "  <tbody>\n",
       "    <tr>\n",
       "      <th>0</th>\n",
       "      <td>1</td>\n",
       "      <td>ALSACE</td>\n",
       "      <td>AA</td>\n",
       "      <td>FR</td>\n",
       "    </tr>\n",
       "    <tr>\n",
       "      <th>1</th>\n",
       "      <td>2</td>\n",
       "      <td>AQUITAINE</td>\n",
       "      <td>AQ</td>\n",
       "      <td>FR</td>\n",
       "    </tr>\n",
       "    <tr>\n",
       "      <th>2</th>\n",
       "      <td>3</td>\n",
       "      <td>AUVERGNE</td>\n",
       "      <td>AU</td>\n",
       "      <td>FR</td>\n",
       "    </tr>\n",
       "    <tr>\n",
       "      <th>3</th>\n",
       "      <td>4</td>\n",
       "      <td>BASSE-NORMANDIE</td>\n",
       "      <td>BN</td>\n",
       "      <td>FR</td>\n",
       "    </tr>\n",
       "    <tr>\n",
       "      <th>4</th>\n",
       "      <td>5</td>\n",
       "      <td>BOURGOGNE</td>\n",
       "      <td>BG</td>\n",
       "      <td>FR</td>\n",
       "    </tr>\n",
       "  </tbody>\n",
       "</table>\n",
       "</div>"
      ],
      "text/plain": [
       "   id              iso name abbreviation\n",
       "0   1           ALSACE   AA           FR\n",
       "1   2        AQUITAINE   AQ           FR\n",
       "2   3         AUVERGNE   AU           FR\n",
       "3   4  BASSE-NORMANDIE   BN           FR\n",
       "4   5        BOURGOGNE   BG           FR"
      ]
     },
     "execution_count": 41,
     "metadata": {},
     "output_type": "execute_result"
    }
   ],
   "source": [
    "regions.head()"
   ]
  },
  {
   "cell_type": "markdown",
   "id": "e4c1dd39-5b7e-44da-a6fd-c0008f9bd741",
   "metadata": {},
   "source": [
    "# Loading Test Data into Dimension tables"
   ]
  },
  {
   "cell_type": "markdown",
   "id": "495bc590-7e22-4bce-910f-48b7d22b9491",
   "metadata": {},
   "source": [
    "## Countries table already has data"
   ]
  },
  {
   "cell_type": "code",
   "execution_count": 65,
   "id": "1ba55158-50c9-42d7-8479-237c173c0ab1",
   "metadata": {
    "scrolled": true
   },
   "outputs": [],
   "source": [
    "countries = pd.read_sql(\"SELECT * FROM country;\", cnxn)"
   ]
  },
  {
   "cell_type": "markdown",
   "id": "456e4315-d588-4f13-8aae-ec59348c5ef1",
   "metadata": {},
   "source": [
    "## Regions table already has data"
   ]
  },
  {
   "cell_type": "code",
   "execution_count": 66,
   "id": "233e05ff-a68f-41c5-80ea-b0c0870db210",
   "metadata": {
    "scrolled": true
   },
   "outputs": [],
   "source": [
    "regions = pd.read_sql(\"SELECT * FROM region;\", cnxn)"
   ]
  },
  {
   "cell_type": "markdown",
   "id": "21552a51-1b77-4e7a-9c00-d559149232a9",
   "metadata": {},
   "source": [
    "## Company_size table already has data"
   ]
  },
  {
   "cell_type": "code",
   "execution_count": 67,
   "id": "1954989d-7e81-46bc-81e3-0fa1b624f61f",
   "metadata": {},
   "outputs": [],
   "source": [
    "company_size = pd.read_sql(\"SELECT * FROM company_size;\", cnxn)"
   ]
  },
  {
   "cell_type": "code",
   "execution_count": 68,
   "id": "39c3bf91-2115-4f24-8aa1-845c80338192",
   "metadata": {},
   "outputs": [
    {
     "name": "stdout",
     "output_type": "stream",
     "text": [
      "<class 'pandas.core.frame.DataFrame'>\n",
      "RangeIndex: 8 entries, 0 to 7\n",
      "Data columns (total 2 columns):\n",
      " #   Column  Non-Null Count  Dtype \n",
      "---  ------  --------------  ----- \n",
      " 0   id      8 non-null      int64 \n",
      " 1   size    8 non-null      object\n",
      "dtypes: int64(1), object(1)\n",
      "memory usage: 256.0+ bytes\n"
     ]
    }
   ],
   "source": [
    "company_size.info()"
   ]
  },
  {
   "cell_type": "markdown",
   "id": "f9ce2678-a2dc-4cca-b749-0cc99176e0af",
   "metadata": {},
   "source": [
    "## Loading Data into the Company Industries Table"
   ]
  },
  {
   "cell_type": "code",
   "execution_count": 76,
   "id": "a00198ba-70d8-419b-af63-893bf2fcebaf",
   "metadata": {},
   "outputs": [],
   "source": [
    "industries = pd.read_sql(\"SELECT * FROM company_industry;\", cnxn)"
   ]
  },
  {
   "cell_type": "code",
   "execution_count": 70,
   "id": "ae5398e4-d197-4a38-ba64-806b75436470",
   "metadata": {},
   "outputs": [],
   "source": [
    "industries = industries = [\"Finance\", \"Healthcare\", \"Technology\", \"Retail\", \"Marketing\", \"E-commerce\", \"Consulting\", \"Manufacturing\", \"Telecommunications\",\"Education\", \"Energy\", \"Government\"]"
   ]
  },
  {
   "cell_type": "code",
   "execution_count": 72,
   "id": "de787ca4-afb3-4410-9953-d76179808956",
   "metadata": {},
   "outputs": [],
   "source": [
    "insert_query = \"INSERT INTO company_industry (industry) VALUES (%s) ON CONFLICT (industry) DO NOTHING\""
   ]
  },
  {
   "cell_type": "code",
   "execution_count": 73,
   "id": "181972cb-1a29-4e27-8748-5ca85f66e020",
   "metadata": {},
   "outputs": [],
   "source": [
    "for industry in industries:\n",
    "    cursor.execute(insert_query, (industry,))"
   ]
  },
  {
   "cell_type": "code",
   "execution_count": 74,
   "id": "aca5f92e-f7fb-4919-bec1-d4816e9d0f15",
   "metadata": {},
   "outputs": [],
   "source": [
    "cnxn.commit()"
   ]
  },
  {
   "cell_type": "markdown",
   "id": "35ed9d1e-b072-45ad-8233-8270560f3ff9",
   "metadata": {},
   "source": [
    "## Loading Data into the Languages table"
   ]
  },
  {
   "cell_type": "code",
   "execution_count": 81,
   "id": "8053723d-4299-465e-8518-4e2608e70130",
   "metadata": {},
   "outputs": [],
   "source": [
    "languages_table = pd.read_sql(\"SELECT * FROM languages;\", cnxn)"
   ]
  },
  {
   "cell_type": "code",
   "execution_count": 82,
   "id": "52b80660-066f-4582-954d-f80ed0adb6ea",
   "metadata": {},
   "outputs": [],
   "source": [
    "languages = ['English', 'French']"
   ]
  },
  {
   "cell_type": "code",
   "execution_count": 80,
   "id": "92d7affb-e8e4-49f1-ada6-f6968872df5e",
   "metadata": {},
   "outputs": [],
   "source": [
    "insert_language_query = \"INSERT INTO languages (language) VALUES (%s) ON CONFLICT (language) DO NOTHING\""
   ]
  },
  {
   "cell_type": "code",
   "execution_count": 83,
   "id": "7a699a40-76e5-4dbc-aae3-870dfdad64a0",
   "metadata": {},
   "outputs": [],
   "source": [
    "for language in languages:\n",
    "    cursor.execute(insert_language_query, (language,))"
   ]
  },
  {
   "cell_type": "code",
   "execution_count": 84,
   "id": "27f68a3e-ef48-4af6-89cc-117bec94ec19",
   "metadata": {},
   "outputs": [],
   "source": [
    "cnxn.commit()"
   ]
  },
  {
   "cell_type": "code",
   "execution_count": 114,
   "id": "38446c38-2da6-4635-a921-c31a04147648",
   "metadata": {},
   "outputs": [
    {
     "data": {
      "text/html": [
       "<div>\n",
       "<style scoped>\n",
       "    .dataframe tbody tr th:only-of-type {\n",
       "        vertical-align: middle;\n",
       "    }\n",
       "\n",
       "    .dataframe tbody tr th {\n",
       "        vertical-align: top;\n",
       "    }\n",
       "\n",
       "    .dataframe thead th {\n",
       "        text-align: right;\n",
       "    }\n",
       "</style>\n",
       "<table border=\"1\" class=\"dataframe\">\n",
       "  <thead>\n",
       "    <tr style=\"text-align: right;\">\n",
       "      <th></th>\n",
       "      <th>id</th>\n",
       "      <th>language</th>\n",
       "    </tr>\n",
       "  </thead>\n",
       "  <tbody>\n",
       "    <tr>\n",
       "      <th>0</th>\n",
       "      <td>1</td>\n",
       "      <td>English</td>\n",
       "    </tr>\n",
       "    <tr>\n",
       "      <th>1</th>\n",
       "      <td>2</td>\n",
       "      <td>French</td>\n",
       "    </tr>\n",
       "  </tbody>\n",
       "</table>\n",
       "</div>"
      ],
      "text/plain": [
       "   id language\n",
       "0   1  English\n",
       "1   2   French"
      ]
     },
     "execution_count": 114,
     "metadata": {},
     "output_type": "execute_result"
    }
   ],
   "source": [
    "languages_table = pd.read_sql(\"SELECT * FROM languages;\", cnxn)\n",
    "languages_table"
   ]
  },
  {
   "cell_type": "markdown",
   "id": "519dfd71-b827-4bd0-8648-69e2d0a8380d",
   "metadata": {},
   "source": [
    "## Loading Data into the Job Titles table"
   ]
  },
  {
   "cell_type": "code",
   "execution_count": 189,
   "id": "fda849ca-6db5-4646-b100-5d27cae4373a",
   "metadata": {},
   "outputs": [],
   "source": [
    "it_jobs = [\n",
    "    \"Software Developer\", \"Data Analyst\", \"Data Scientist\", \"System Administrator\",\n",
    "    \"DevOps Engineer\", \"Network Engineer\", \"IT Support Specialist\", \"Web Developer\",\n",
    "    \"Cloud Architect\", \"Cybersecurity Analyst\", \"Database Administrator\", \"Business Analyst\"\n",
    "]"
   ]
  },
  {
   "cell_type": "code",
   "execution_count": 190,
   "id": "ecac2616-b837-465e-8b5b-cba37867f079",
   "metadata": {},
   "outputs": [],
   "source": [
    "insert_job_title_query = \"INSERT INTO job_titles (title) VALUES (%s) ON CONFLICT (title) DO NOTHING\""
   ]
  },
  {
   "cell_type": "code",
   "execution_count": 198,
   "id": "52a9ac04-a1a5-48eb-b64b-1750d352ad67",
   "metadata": {},
   "outputs": [],
   "source": [
    "titles_table = pd.read_sql(\"SELECT * FROM job_titles;\", cnxn)"
   ]
  },
  {
   "cell_type": "code",
   "execution_count": 199,
   "id": "276004a3-13d3-4192-9b15-a84e399fe2f2",
   "metadata": {},
   "outputs": [
    {
     "data": {
      "text/html": [
       "<div>\n",
       "<style scoped>\n",
       "    .dataframe tbody tr th:only-of-type {\n",
       "        vertical-align: middle;\n",
       "    }\n",
       "\n",
       "    .dataframe tbody tr th {\n",
       "        vertical-align: top;\n",
       "    }\n",
       "\n",
       "    .dataframe thead th {\n",
       "        text-align: right;\n",
       "    }\n",
       "</style>\n",
       "<table border=\"1\" class=\"dataframe\">\n",
       "  <thead>\n",
       "    <tr style=\"text-align: right;\">\n",
       "      <th></th>\n",
       "      <th>id</th>\n",
       "      <th>title</th>\n",
       "    </tr>\n",
       "  </thead>\n",
       "  <tbody>\n",
       "    <tr>\n",
       "      <th>0</th>\n",
       "      <td>13</td>\n",
       "      <td>Software Developer</td>\n",
       "    </tr>\n",
       "    <tr>\n",
       "      <th>1</th>\n",
       "      <td>14</td>\n",
       "      <td>Data Analyst</td>\n",
       "    </tr>\n",
       "    <tr>\n",
       "      <th>2</th>\n",
       "      <td>15</td>\n",
       "      <td>Data Scientist</td>\n",
       "    </tr>\n",
       "    <tr>\n",
       "      <th>3</th>\n",
       "      <td>16</td>\n",
       "      <td>System Administrator</td>\n",
       "    </tr>\n",
       "    <tr>\n",
       "      <th>4</th>\n",
       "      <td>17</td>\n",
       "      <td>DevOps Engineer</td>\n",
       "    </tr>\n",
       "    <tr>\n",
       "      <th>5</th>\n",
       "      <td>18</td>\n",
       "      <td>Network Engineer</td>\n",
       "    </tr>\n",
       "    <tr>\n",
       "      <th>6</th>\n",
       "      <td>19</td>\n",
       "      <td>IT Support Specialist</td>\n",
       "    </tr>\n",
       "    <tr>\n",
       "      <th>7</th>\n",
       "      <td>20</td>\n",
       "      <td>Web Developer</td>\n",
       "    </tr>\n",
       "    <tr>\n",
       "      <th>8</th>\n",
       "      <td>21</td>\n",
       "      <td>Cloud Architect</td>\n",
       "    </tr>\n",
       "    <tr>\n",
       "      <th>9</th>\n",
       "      <td>22</td>\n",
       "      <td>Cybersecurity Analyst</td>\n",
       "    </tr>\n",
       "    <tr>\n",
       "      <th>10</th>\n",
       "      <td>23</td>\n",
       "      <td>Database Administrator</td>\n",
       "    </tr>\n",
       "    <tr>\n",
       "      <th>11</th>\n",
       "      <td>24</td>\n",
       "      <td>Business Analyst</td>\n",
       "    </tr>\n",
       "  </tbody>\n",
       "</table>\n",
       "</div>"
      ],
      "text/plain": [
       "    id                   title\n",
       "0   13      Software Developer\n",
       "1   14            Data Analyst\n",
       "2   15          Data Scientist\n",
       "3   16    System Administrator\n",
       "4   17         DevOps Engineer\n",
       "5   18        Network Engineer\n",
       "6   19   IT Support Specialist\n",
       "7   20           Web Developer\n",
       "8   21         Cloud Architect\n",
       "9   22   Cybersecurity Analyst\n",
       "10  23  Database Administrator\n",
       "11  24        Business Analyst"
      ]
     },
     "execution_count": 199,
     "metadata": {},
     "output_type": "execute_result"
    }
   ],
   "source": [
    "titles_table"
   ]
  },
  {
   "cell_type": "code",
   "execution_count": 194,
   "id": "a0a1c6cd-9521-4db3-b1c9-9796d08b42dd",
   "metadata": {},
   "outputs": [],
   "source": [
    "for job in it_jobs:\n",
    "    cursor.execute(insert_job_title_query, (job,))"
   ]
  },
  {
   "cell_type": "code",
   "execution_count": 195,
   "id": "5461f4c1-73f6-46f2-a674-2415b875b61c",
   "metadata": {},
   "outputs": [],
   "source": [
    "cnxn.commit()"
   ]
  },
  {
   "cell_type": "code",
   "execution_count": 98,
   "id": "27810be0-0048-4838-9f6b-af67549581ef",
   "metadata": {},
   "outputs": [],
   "source": [
    "titles_table = pd.read_sql(\"SELECT * FROM job_titles;\", cnxn)"
   ]
  },
  {
   "cell_type": "markdown",
   "id": "a0c36c8e-4d02-4529-a900-429bb37caf46",
   "metadata": {},
   "source": [
    "## Loading data into the hiring_activity table"
   ]
  },
  {
   "cell_type": "code",
   "execution_count": 100,
   "id": "cf78431d-e10d-47b5-90cc-9517bf15f172",
   "metadata": {},
   "outputs": [],
   "source": [
    "hiring_activity = pd.read_sql(\"SELECT * FROM hiring_activity;\", cnxn)"
   ]
  },
  {
   "cell_type": "code",
   "execution_count": 101,
   "id": "c1cca129-b687-4fe5-ba34-1107588629e1",
   "metadata": {},
   "outputs": [
    {
     "data": {
      "text/html": [
       "<div>\n",
       "<style scoped>\n",
       "    .dataframe tbody tr th:only-of-type {\n",
       "        vertical-align: middle;\n",
       "    }\n",
       "\n",
       "    .dataframe tbody tr th {\n",
       "        vertical-align: top;\n",
       "    }\n",
       "\n",
       "    .dataframe thead th {\n",
       "        text-align: right;\n",
       "    }\n",
       "</style>\n",
       "<table border=\"1\" class=\"dataframe\">\n",
       "  <thead>\n",
       "    <tr style=\"text-align: right;\">\n",
       "      <th></th>\n",
       "      <th>id</th>\n",
       "      <th>activity</th>\n",
       "    </tr>\n",
       "  </thead>\n",
       "  <tbody>\n",
       "  </tbody>\n",
       "</table>\n",
       "</div>"
      ],
      "text/plain": [
       "Empty DataFrame\n",
       "Columns: [id, activity]\n",
       "Index: []"
      ]
     },
     "execution_count": 101,
     "metadata": {},
     "output_type": "execute_result"
    }
   ],
   "source": [
    "hiring_activity"
   ]
  },
  {
   "cell_type": "code",
   "execution_count": 105,
   "id": "061b4fbf-84de-4799-b805-3110121d9c83",
   "metadata": {},
   "outputs": [],
   "source": [
    "active = activities['value'].to_list()"
   ]
  },
  {
   "cell_type": "code",
   "execution_count": 106,
   "id": "a6177a31-2a91-493e-8d25-0555beea4936",
   "metadata": {},
   "outputs": [
    {
     "data": {
      "text/plain": [
       "['APPLICATION', 'ASSESSMENT', 'INTERVIEW', 'REJECTION']"
      ]
     },
     "execution_count": 106,
     "metadata": {},
     "output_type": "execute_result"
    }
   ],
   "source": [
    "active"
   ]
  },
  {
   "cell_type": "code",
   "execution_count": 119,
   "id": "5eca530d-c61d-481a-8068-3a83bfba7b76",
   "metadata": {},
   "outputs": [],
   "source": [
    "insert_activity_query = \"INSERT INTO hiring_activity (activity) VALUES (%s)\""
   ]
  },
  {
   "cell_type": "code",
   "execution_count": 120,
   "id": "aa128879-ebcc-4a43-a488-c59aee9ba961",
   "metadata": {},
   "outputs": [],
   "source": [
    "for action in active:\n",
    "    cursor.execute(insert_activity_query, (action,))"
   ]
  },
  {
   "cell_type": "code",
   "execution_count": 121,
   "id": "4f47faaf-d691-45bc-96ad-ebe47a0a9397",
   "metadata": {},
   "outputs": [],
   "source": [
    "hiring_activity = pd.read_sql(\"SELECT * FROM hiring_activity;\", cnxn)"
   ]
  },
  {
   "cell_type": "code",
   "execution_count": 122,
   "id": "c2df75c0-6b9f-40f3-8e16-5be749dc5c3c",
   "metadata": {},
   "outputs": [
    {
     "data": {
      "text/html": [
       "<div>\n",
       "<style scoped>\n",
       "    .dataframe tbody tr th:only-of-type {\n",
       "        vertical-align: middle;\n",
       "    }\n",
       "\n",
       "    .dataframe tbody tr th {\n",
       "        vertical-align: top;\n",
       "    }\n",
       "\n",
       "    .dataframe thead th {\n",
       "        text-align: right;\n",
       "    }\n",
       "</style>\n",
       "<table border=\"1\" class=\"dataframe\">\n",
       "  <thead>\n",
       "    <tr style=\"text-align: right;\">\n",
       "      <th></th>\n",
       "      <th>id</th>\n",
       "      <th>activity</th>\n",
       "    </tr>\n",
       "  </thead>\n",
       "  <tbody>\n",
       "    <tr>\n",
       "      <th>0</th>\n",
       "      <td>1</td>\n",
       "      <td>APPLICATION</td>\n",
       "    </tr>\n",
       "    <tr>\n",
       "      <th>1</th>\n",
       "      <td>2</td>\n",
       "      <td>ASSESSMENT</td>\n",
       "    </tr>\n",
       "    <tr>\n",
       "      <th>2</th>\n",
       "      <td>3</td>\n",
       "      <td>INTERVIEW</td>\n",
       "    </tr>\n",
       "    <tr>\n",
       "      <th>3</th>\n",
       "      <td>4</td>\n",
       "      <td>REJECTION</td>\n",
       "    </tr>\n",
       "  </tbody>\n",
       "</table>\n",
       "</div>"
      ],
      "text/plain": [
       "   id     activity\n",
       "0   1  APPLICATION\n",
       "1   2   ASSESSMENT\n",
       "2   3    INTERVIEW\n",
       "3   4    REJECTION"
      ]
     },
     "execution_count": 122,
     "metadata": {},
     "output_type": "execute_result"
    }
   ],
   "source": [
    "hiring_activity"
   ]
  },
  {
   "cell_type": "code",
   "execution_count": 123,
   "id": "74d35a8f-7687-4dac-84e5-7fd026f46364",
   "metadata": {},
   "outputs": [],
   "source": [
    "emails = pd.read_sql(\"SELECT * FROM email;\", cnxn)"
   ]
  },
  {
   "cell_type": "code",
   "execution_count": 124,
   "id": "c9e79fd1-215b-4c2a-a951-127b31f13b47",
   "metadata": {},
   "outputs": [
    {
     "data": {
      "text/html": [
       "<div>\n",
       "<style scoped>\n",
       "    .dataframe tbody tr th:only-of-type {\n",
       "        vertical-align: middle;\n",
       "    }\n",
       "\n",
       "    .dataframe tbody tr th {\n",
       "        vertical-align: top;\n",
       "    }\n",
       "\n",
       "    .dataframe thead th {\n",
       "        text-align: right;\n",
       "    }\n",
       "</style>\n",
       "<table border=\"1\" class=\"dataframe\">\n",
       "  <thead>\n",
       "    <tr style=\"text-align: right;\">\n",
       "      <th></th>\n",
       "      <th>id</th>\n",
       "      <th>email</th>\n",
       "    </tr>\n",
       "  </thead>\n",
       "  <tbody>\n",
       "    <tr>\n",
       "      <th>0</th>\n",
       "      <td>1</td>\n",
       "      <td>greg.shoda@gmail.com</td>\n",
       "    </tr>\n",
       "  </tbody>\n",
       "</table>\n",
       "</div>"
      ],
      "text/plain": [
       "   id                 email\n",
       "0   1  greg.shoda@gmail.com"
      ]
     },
     "execution_count": 124,
     "metadata": {},
     "output_type": "execute_result"
    }
   ],
   "source": [
    "emails"
   ]
  },
  {
   "cell_type": "markdown",
   "id": "73e822d6-ab9a-4965-a175-3d85bb318dae",
   "metadata": {},
   "source": [
    "# Creating a Fake Company Profile to insert into the DB"
   ]
  },
  {
   "cell_type": "markdown",
   "id": "7321320b-6140-45e3-93d6-5f520b930243",
   "metadata": {},
   "source": [
    "## Creating a Faker provider for company_size"
   ]
  },
  {
   "cell_type": "code",
   "execution_count": 152,
   "id": "ae426b2e-acba-4b2a-8934-c9aac7e5d970",
   "metadata": {},
   "outputs": [
    {
     "data": {
      "text/plain": [
       "[1, 2, 3, 4, 5, 6, 7, 8]"
      ]
     },
     "execution_count": 152,
     "metadata": {},
     "output_type": "execute_result"
    }
   ],
   "source": [
    "pd.read_sql(\"SELECT * FROM company_size;\", cnxn).id.to_list()"
   ]
  },
  {
   "cell_type": "code",
   "execution_count": 153,
   "id": "aac40432-c99e-45dc-876e-5a5c23efb264",
   "metadata": {},
   "outputs": [],
   "source": [
    "company_size_provider = DynamicProvider(\n",
    "    provider_name = \"company_size\",\n",
    "    elements = pd.read_sql(\"SELECT * FROM company_size;\", cnxn).id.to_list()\n",
    ")"
   ]
  },
  {
   "cell_type": "code",
   "execution_count": 154,
   "id": "f9e4661a-2b36-4421-9be7-ad19f742f988",
   "metadata": {},
   "outputs": [],
   "source": [
    "company_industry_provider_list = pd.read_sql(\"SELECT id FROM company_industry;\", cnxn).id.to_list()"
   ]
  },
  {
   "cell_type": "code",
   "execution_count": 155,
   "id": "70d2a976-0cf2-42ae-8462-9ab1722f5afa",
   "metadata": {},
   "outputs": [
    {
     "data": {
      "text/plain": [
       "[1, 2, 3, 4, 5, 6, 7, 8, 9, 10, 11, 12]"
      ]
     },
     "execution_count": 155,
     "metadata": {},
     "output_type": "execute_result"
    }
   ],
   "source": [
    "company_industry_provider_list"
   ]
  },
  {
   "cell_type": "code",
   "execution_count": 161,
   "id": "67d563c1-6f4d-4873-b31d-b1a3c9f446bd",
   "metadata": {},
   "outputs": [],
   "source": [
    "company_industry_provider = DynamicProvider(\n",
    "    provider_name = \"company_industry\",\n",
    "    elements = company_industry_provider_list\n",
    ")"
   ]
  },
  {
   "cell_type": "code",
   "execution_count": 162,
   "id": "708cd6f2-f39c-4566-a4fe-61c0f08ad652",
   "metadata": {},
   "outputs": [],
   "source": [
    "fake_US.add_provider(company_size_provider)"
   ]
  },
  {
   "cell_type": "code",
   "execution_count": 163,
   "id": "c6f0db15-1fa4-4332-aa8e-a51096874f23",
   "metadata": {},
   "outputs": [],
   "source": [
    "fake_US.add_provider(company_industry_provider)"
   ]
  },
  {
   "cell_type": "code",
   "execution_count": 164,
   "id": "1d9ee91c-a1bf-47d5-b5e9-8a5b94d8f933",
   "metadata": {},
   "outputs": [],
   "source": [
    "company = fake_US.company()\n",
    "company_city = fake_US.city()\n",
    "company_state = fake_US.state().upper()\n",
    "region_id = regions.loc[regions['name'] == company_state, 'id'].iloc[0]\n",
    "company_size = fake_US.company_size()\n",
    "company_industry = fake_US.company_industry()\n"
   ]
  },
  {
   "cell_type": "code",
   "execution_count": 168,
   "id": "0d9ab35e-b1d1-4e1d-8f02-e7a1c35de512",
   "metadata": {},
   "outputs": [
    {
     "name": "stdout",
     "output_type": "stream",
     "text": [
      "Company: Adkins and Sons, Company Headquerters: Lake Jill, ALASKA, Company_Size: 8, Company_Industry: 5\n"
     ]
    }
   ],
   "source": [
    "print(f\"Company: {company}, Company Headquerters: {company_city}, {company_state}, Company_Size: {company_size}, Company_Industry: {company_industry}\")"
   ]
  },
  {
   "cell_type": "code",
   "execution_count": 136,
   "id": "91f9b4e1-648a-4d16-aa13-923aab279b49",
   "metadata": {},
   "outputs": [
    {
     "name": "stdout",
     "output_type": "stream",
     "text": [
      "<class 'pandas.core.frame.DataFrame'>\n",
      "RangeIndex: 111 entries, 0 to 110\n",
      "Data columns (total 4 columns):\n",
      " #   Column        Non-Null Count  Dtype \n",
      "---  ------        --------------  ----- \n",
      " 0   id            111 non-null    int64 \n",
      " 1   name          111 non-null    object\n",
      " 2   abbreviation  111 non-null    object\n",
      " 3   iso           111 non-null    object\n",
      "dtypes: int64(1), object(3)\n",
      "memory usage: 3.6+ KB\n"
     ]
    }
   ],
   "source": [
    "regions.info()"
   ]
  },
  {
   "cell_type": "code",
   "execution_count": null,
   "id": "725b8e82-1f52-4477-b063-de867b6051d7",
   "metadata": {},
   "outputs": [],
   "source": [
    "cursor.execute("
   ]
  },
  {
   "cell_type": "code",
   "execution_count": 171,
   "id": "45541d84-fb29-410e-9dde-23767061f137",
   "metadata": {},
   "outputs": [],
   "source": [
    "cursor.execute(\"\"\"\n",
    "                INSERT INTO locality (name, region_id)\n",
    "                VALUES (%s, %s)\n",
    "                RETURNING id;\n",
    "                \"\"\", (company_city, int(region_id)))"
   ]
  },
  {
   "cell_type": "code",
   "execution_count": 172,
   "id": "6ca0e830-42d2-4ec4-93eb-b3e5b6b3b287",
   "metadata": {},
   "outputs": [],
   "source": [
    "locality_id = cursor.fetchone()[0]"
   ]
  },
  {
   "cell_type": "code",
   "execution_count": 174,
   "id": "0d111635-9af2-4f9f-a613-b8c84e21caee",
   "metadata": {},
   "outputs": [
    {
     "name": "stdout",
     "output_type": "stream",
     "text": [
      "8\n"
     ]
    }
   ],
   "source": [
    "print(company_size)"
   ]
  },
  {
   "cell_type": "code",
   "execution_count": 175,
   "id": "86f39d12-7799-4a12-8985-217f726ecb13",
   "metadata": {},
   "outputs": [],
   "source": [
    "cursor.execute(\"\"\"\n",
    "                INSERT INTO company (name, hq_locality_id, company_size_id, company_ind_id)\n",
    "                VALUES (%s, %s, %s, %s);\n",
    "                \"\"\", (company, locality_id, company_size, company_industry))\n",
    "                "
   ]
  },
  {
   "cell_type": "code",
   "execution_count": 176,
   "id": "826b2225-682a-4126-8194-f743346ac15a",
   "metadata": {},
   "outputs": [],
   "source": [
    "cnxn.commit()"
   ]
  },
  {
   "cell_type": "code",
   "execution_count": 182,
   "id": "da1c5473-8ca1-4df5-9e90-c70102b64ed4",
   "metadata": {},
   "outputs": [],
   "source": [
    "cursor.execute(\"\"\"\n",
    "                SELECT id\n",
    "                FROM company;\n",
    "                \"\"\", cnxn)"
   ]
  },
  {
   "cell_type": "code",
   "execution_count": 183,
   "id": "1980e0c0-0ecf-4ad8-b2a4-d9f521ac9b26",
   "metadata": {},
   "outputs": [],
   "source": [
    "company_id = cursor.fetchone()[0]"
   ]
  },
  {
   "cell_type": "code",
   "execution_count": 184,
   "id": "881cff69-6a4f-4809-83c5-cd19d13a61b9",
   "metadata": {},
   "outputs": [],
   "source": [
    "posting = fake_US.url()\n",
    "job_title_id = fake_US.random_int(min = , max = 12)\n",
    "job_locality_id = 1\n"
   ]
  },
  {
   "cell_type": "code",
   "execution_count": null,
   "id": "f2327aeb-313e-40cd-ab6f-41d704a04baa",
   "metadata": {},
   "outputs": [],
   "source": []
  },
  {
   "cell_type": "code",
   "execution_count": 200,
   "id": "87639cda-f23f-4305-9d34-6f7ba1b5077c",
   "metadata": {},
   "outputs": [],
   "source": [
    "cursor.execute(\"\"\"\n",
    "                INSERT INTO job_details (posting, job_title_id, job_locality_id, company_id)\n",
    "                VALUES (%s, %s, %s, %s)\n",
    "                RETURNING id;\n",
    "                \"\"\", (posting, 14, job_locality_id, company_id))"
   ]
  },
  {
   "cell_type": "code",
   "execution_count": 201,
   "id": "b7c78382-1709-464b-860e-a756979a121c",
   "metadata": {},
   "outputs": [],
   "source": [
    "job_id = cursor.fetchone()[0]"
   ]
  },
  {
   "cell_type": "code",
   "execution_count": 202,
   "id": "a045db9f-908b-430d-a425-8c242a706909",
   "metadata": {},
   "outputs": [
    {
     "data": {
      "text/plain": [
       "3"
      ]
     },
     "execution_count": 202,
     "metadata": {},
     "output_type": "execute_result"
    }
   ],
   "source": [
    "job_id"
   ]
  },
  {
   "cell_type": "code",
   "execution_count": 203,
   "id": "a6c12292-ba48-49ab-b308-6a8f43769df4",
   "metadata": {},
   "outputs": [],
   "source": [
    "cover_letter = \"REQUIRED\"\n",
    "addt_ques = 0\n",
    "references = 0\n",
    "language_id = 1"
   ]
  },
  {
   "cell_type": "code",
   "execution_count": 207,
   "id": "7f0e3445-e8b3-4f58-a7b7-6a237cc68647",
   "metadata": {},
   "outputs": [],
   "source": [
    "cnxn.commit()"
   ]
  },
  {
   "cell_type": "code",
   "execution_count": 208,
   "id": "c573dc7c-5857-4492-a945-d26bc2961345",
   "metadata": {},
   "outputs": [],
   "source": [
    "applications = pd.read_sql(\"SELECT * FROM application_details;\", cnxn)"
   ]
  },
  {
   "cell_type": "code",
   "execution_count": 209,
   "id": "9c93b10d-efa3-470b-ae2c-a5a26706bb4b",
   "metadata": {},
   "outputs": [
    {
     "name": "stdout",
     "output_type": "stream",
     "text": [
      "<class 'pandas.core.frame.DataFrame'>\n",
      "RangeIndex: 0 entries\n",
      "Data columns (total 8 columns):\n",
      " #   Column        Non-Null Count  Dtype \n",
      "---  ------        --------------  ----- \n",
      " 0   id            0 non-null      object\n",
      " 1   cover_letter  0 non-null      object\n",
      " 2   addt_ques     0 non-null      object\n",
      " 3   reference     0 non-null      object\n",
      " 4   expiration    0 non-null      object\n",
      " 5   language_id   0 non-null      object\n",
      " 6   account_id    0 non-null      object\n",
      " 7   job_id        0 non-null      object\n",
      "dtypes: object(8)\n",
      "memory usage: 124.0+ bytes\n"
     ]
    }
   ],
   "source": [
    "applications.info()"
   ]
  },
  {
   "cell_type": "code",
   "execution_count": 215,
   "id": "55d91e39-d514-4e49-84fa-a09a4fa4a9e5",
   "metadata": {},
   "outputs": [],
   "source": [
    "cursor.execute(\"\"\"\n",
    "                ALTER TABLE application_details\n",
    "                ALTER COLUMN account_id DROP NOT NULL;\n",
    "                \"\"\", cnxn)"
   ]
  },
  {
   "cell_type": "code",
   "execution_count": 216,
   "id": "ede0d1b6-c038-4bd7-834e-4acb73842209",
   "metadata": {},
   "outputs": [],
   "source": [
    "cnxn.commit()"
   ]
  },
  {
   "cell_type": "code",
   "execution_count": 217,
   "id": "e27a9a13-97b5-4c0a-9206-679b29fd4398",
   "metadata": {
    "scrolled": true
   },
   "outputs": [],
   "source": [
    "cursor.execute(\"\"\"\n",
    "                INSERT INTO application_details (cover_letter, addt_ques, reference, language_id, job_id)\n",
    "                VALUES (%s, %s::bit, %s::bit, %s, %s);\n",
    "                \"\"\", (cover_letter, addt_ques, references, language_id, job_id))"
   ]
  },
  {
   "cell_type": "code",
   "execution_count": 218,
   "id": "c0301add-9650-4acf-8a20-83eaa4eea8e6",
   "metadata": {},
   "outputs": [],
   "source": [
    "cnxn.commit()"
   ]
  }
 ],
 "metadata": {
  "kernelspec": {
   "display_name": "Python 3 (ipykernel)",
   "language": "python",
   "name": "python3"
  },
  "language_info": {
   "codemirror_mode": {
    "name": "ipython",
    "version": 3
   },
   "file_extension": ".py",
   "mimetype": "text/x-python",
   "name": "python",
   "nbconvert_exporter": "python",
   "pygments_lexer": "ipython3",
   "version": "3.9.12"
  }
 },
 "nbformat": 4,
 "nbformat_minor": 5
}
